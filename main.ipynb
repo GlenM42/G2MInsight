{
 "cells": [
  {
   "metadata": {},
   "cell_type": "markdown",
   "source": [
    "# EDA Notebook\n",
    "\n",
    "Hello, everybody. This is going to be the EDA Notebook for the second week assignment for the DataGlacier Internship, made by GlenM42. \n",
    "\n",
    "To start, let's install all the required libraries, and load the csv files:\n"
   ],
   "id": "6b5b6065ad800165"
  },
  {
   "metadata": {
    "ExecuteTime": {
     "end_time": "2024-05-10T22:09:04.620971Z",
     "start_time": "2024-05-10T22:09:04.361305Z"
    }
   },
   "cell_type": "code",
   "source": [
    "import pandas as pd\n",
    "import numpy as np\n",
    "import seaborn as sns\n",
    "import matplotlib.pyplot as plt\n",
    "\n",
    "cab_data = pd.read_csv('Cab_Data.csv')\n",
    "print(\"\\nCab Data Preview:\")\n",
    "display(cab_data.head())\n",
    "city_data = pd.read_csv('City.csv')\n",
    "print(\"\\nCity Data Preview:\")\n",
    "display(city_data.head())\n",
    "customer_data = pd.read_csv('Customer_ID.csv')\n",
    "print(\"\\nCustomer Data Preview:\")\n",
    "display(customer_data.head())\n",
    "transaction_data = pd.read_csv('Transaction_ID.csv')\n",
    "print(\"\\nTransaction Data Preview:\")\n",
    "display(transaction_data.head())"
   ],
   "id": "b925b8a911369b0b",
   "outputs": [
    {
     "name": "stdout",
     "output_type": "stream",
     "text": [
      "\n",
      "Cab Data Preview:\n"
     ]
    },
    {
     "data": {
      "text/plain": [
       "   Transaction ID  Date of Travel   Company        City  KM Travelled  \\\n",
       "0        10000011           42377  Pink Cab  ATLANTA GA         30.45   \n",
       "1        10000012           42375  Pink Cab  ATLANTA GA         28.62   \n",
       "2        10000013           42371  Pink Cab  ATLANTA GA          9.04   \n",
       "3        10000014           42376  Pink Cab  ATLANTA GA         33.17   \n",
       "4        10000015           42372  Pink Cab  ATLANTA GA          8.73   \n",
       "\n",
       "   Price Charged  Cost of Trip  \n",
       "0         370.95       313.635  \n",
       "1         358.52       334.854  \n",
       "2         125.20        97.632  \n",
       "3         377.40       351.602  \n",
       "4         114.62        97.776  "
      ],
      "text/html": [
       "<div>\n",
       "<style scoped>\n",
       "    .dataframe tbody tr th:only-of-type {\n",
       "        vertical-align: middle;\n",
       "    }\n",
       "\n",
       "    .dataframe tbody tr th {\n",
       "        vertical-align: top;\n",
       "    }\n",
       "\n",
       "    .dataframe thead th {\n",
       "        text-align: right;\n",
       "    }\n",
       "</style>\n",
       "<table border=\"1\" class=\"dataframe\">\n",
       "  <thead>\n",
       "    <tr style=\"text-align: right;\">\n",
       "      <th></th>\n",
       "      <th>Transaction ID</th>\n",
       "      <th>Date of Travel</th>\n",
       "      <th>Company</th>\n",
       "      <th>City</th>\n",
       "      <th>KM Travelled</th>\n",
       "      <th>Price Charged</th>\n",
       "      <th>Cost of Trip</th>\n",
       "    </tr>\n",
       "  </thead>\n",
       "  <tbody>\n",
       "    <tr>\n",
       "      <th>0</th>\n",
       "      <td>10000011</td>\n",
       "      <td>42377</td>\n",
       "      <td>Pink Cab</td>\n",
       "      <td>ATLANTA GA</td>\n",
       "      <td>30.45</td>\n",
       "      <td>370.95</td>\n",
       "      <td>313.635</td>\n",
       "    </tr>\n",
       "    <tr>\n",
       "      <th>1</th>\n",
       "      <td>10000012</td>\n",
       "      <td>42375</td>\n",
       "      <td>Pink Cab</td>\n",
       "      <td>ATLANTA GA</td>\n",
       "      <td>28.62</td>\n",
       "      <td>358.52</td>\n",
       "      <td>334.854</td>\n",
       "    </tr>\n",
       "    <tr>\n",
       "      <th>2</th>\n",
       "      <td>10000013</td>\n",
       "      <td>42371</td>\n",
       "      <td>Pink Cab</td>\n",
       "      <td>ATLANTA GA</td>\n",
       "      <td>9.04</td>\n",
       "      <td>125.20</td>\n",
       "      <td>97.632</td>\n",
       "    </tr>\n",
       "    <tr>\n",
       "      <th>3</th>\n",
       "      <td>10000014</td>\n",
       "      <td>42376</td>\n",
       "      <td>Pink Cab</td>\n",
       "      <td>ATLANTA GA</td>\n",
       "      <td>33.17</td>\n",
       "      <td>377.40</td>\n",
       "      <td>351.602</td>\n",
       "    </tr>\n",
       "    <tr>\n",
       "      <th>4</th>\n",
       "      <td>10000015</td>\n",
       "      <td>42372</td>\n",
       "      <td>Pink Cab</td>\n",
       "      <td>ATLANTA GA</td>\n",
       "      <td>8.73</td>\n",
       "      <td>114.62</td>\n",
       "      <td>97.776</td>\n",
       "    </tr>\n",
       "  </tbody>\n",
       "</table>\n",
       "</div>"
      ]
     },
     "metadata": {},
     "output_type": "display_data"
    },
    {
     "name": "stdout",
     "output_type": "stream",
     "text": [
      "\n",
      "City Data Preview:\n"
     ]
    },
    {
     "data": {
      "text/plain": [
       "             City   Population      Users\n",
       "0     NEW YORK NY   8,405,837    302,149 \n",
       "1      CHICAGO IL   1,955,130    164,468 \n",
       "2  LOS ANGELES CA   1,595,037    144,132 \n",
       "3        MIAMI FL   1,339,155     17,675 \n",
       "4  SILICON VALLEY   1,177,609     27,247 "
      ],
      "text/html": [
       "<div>\n",
       "<style scoped>\n",
       "    .dataframe tbody tr th:only-of-type {\n",
       "        vertical-align: middle;\n",
       "    }\n",
       "\n",
       "    .dataframe tbody tr th {\n",
       "        vertical-align: top;\n",
       "    }\n",
       "\n",
       "    .dataframe thead th {\n",
       "        text-align: right;\n",
       "    }\n",
       "</style>\n",
       "<table border=\"1\" class=\"dataframe\">\n",
       "  <thead>\n",
       "    <tr style=\"text-align: right;\">\n",
       "      <th></th>\n",
       "      <th>City</th>\n",
       "      <th>Population</th>\n",
       "      <th>Users</th>\n",
       "    </tr>\n",
       "  </thead>\n",
       "  <tbody>\n",
       "    <tr>\n",
       "      <th>0</th>\n",
       "      <td>NEW YORK NY</td>\n",
       "      <td>8,405,837</td>\n",
       "      <td>302,149</td>\n",
       "    </tr>\n",
       "    <tr>\n",
       "      <th>1</th>\n",
       "      <td>CHICAGO IL</td>\n",
       "      <td>1,955,130</td>\n",
       "      <td>164,468</td>\n",
       "    </tr>\n",
       "    <tr>\n",
       "      <th>2</th>\n",
       "      <td>LOS ANGELES CA</td>\n",
       "      <td>1,595,037</td>\n",
       "      <td>144,132</td>\n",
       "    </tr>\n",
       "    <tr>\n",
       "      <th>3</th>\n",
       "      <td>MIAMI FL</td>\n",
       "      <td>1,339,155</td>\n",
       "      <td>17,675</td>\n",
       "    </tr>\n",
       "    <tr>\n",
       "      <th>4</th>\n",
       "      <td>SILICON VALLEY</td>\n",
       "      <td>1,177,609</td>\n",
       "      <td>27,247</td>\n",
       "    </tr>\n",
       "  </tbody>\n",
       "</table>\n",
       "</div>"
      ]
     },
     "metadata": {},
     "output_type": "display_data"
    },
    {
     "name": "stdout",
     "output_type": "stream",
     "text": [
      "\n",
      "Customer Data Preview:\n"
     ]
    },
    {
     "data": {
      "text/plain": [
       "   Customer ID Gender  Age  Income (USD/Month)\n",
       "0        29290   Male   28               10813\n",
       "1        27703   Male   27                9237\n",
       "2        28712   Male   53               11242\n",
       "3        28020   Male   23               23327\n",
       "4        27182   Male   33                8536"
      ],
      "text/html": [
       "<div>\n",
       "<style scoped>\n",
       "    .dataframe tbody tr th:only-of-type {\n",
       "        vertical-align: middle;\n",
       "    }\n",
       "\n",
       "    .dataframe tbody tr th {\n",
       "        vertical-align: top;\n",
       "    }\n",
       "\n",
       "    .dataframe thead th {\n",
       "        text-align: right;\n",
       "    }\n",
       "</style>\n",
       "<table border=\"1\" class=\"dataframe\">\n",
       "  <thead>\n",
       "    <tr style=\"text-align: right;\">\n",
       "      <th></th>\n",
       "      <th>Customer ID</th>\n",
       "      <th>Gender</th>\n",
       "      <th>Age</th>\n",
       "      <th>Income (USD/Month)</th>\n",
       "    </tr>\n",
       "  </thead>\n",
       "  <tbody>\n",
       "    <tr>\n",
       "      <th>0</th>\n",
       "      <td>29290</td>\n",
       "      <td>Male</td>\n",
       "      <td>28</td>\n",
       "      <td>10813</td>\n",
       "    </tr>\n",
       "    <tr>\n",
       "      <th>1</th>\n",
       "      <td>27703</td>\n",
       "      <td>Male</td>\n",
       "      <td>27</td>\n",
       "      <td>9237</td>\n",
       "    </tr>\n",
       "    <tr>\n",
       "      <th>2</th>\n",
       "      <td>28712</td>\n",
       "      <td>Male</td>\n",
       "      <td>53</td>\n",
       "      <td>11242</td>\n",
       "    </tr>\n",
       "    <tr>\n",
       "      <th>3</th>\n",
       "      <td>28020</td>\n",
       "      <td>Male</td>\n",
       "      <td>23</td>\n",
       "      <td>23327</td>\n",
       "    </tr>\n",
       "    <tr>\n",
       "      <th>4</th>\n",
       "      <td>27182</td>\n",
       "      <td>Male</td>\n",
       "      <td>33</td>\n",
       "      <td>8536</td>\n",
       "    </tr>\n",
       "  </tbody>\n",
       "</table>\n",
       "</div>"
      ]
     },
     "metadata": {},
     "output_type": "display_data"
    },
    {
     "name": "stdout",
     "output_type": "stream",
     "text": [
      "\n",
      "Transaction Data Preview:\n"
     ]
    },
    {
     "data": {
      "text/plain": [
       "   Transaction ID  Customer ID Payment_Mode\n",
       "0        10000011        29290         Card\n",
       "1        10000012        27703         Card\n",
       "2        10000013        28712         Cash\n",
       "3        10000014        28020         Cash\n",
       "4        10000015        27182         Card"
      ],
      "text/html": [
       "<div>\n",
       "<style scoped>\n",
       "    .dataframe tbody tr th:only-of-type {\n",
       "        vertical-align: middle;\n",
       "    }\n",
       "\n",
       "    .dataframe tbody tr th {\n",
       "        vertical-align: top;\n",
       "    }\n",
       "\n",
       "    .dataframe thead th {\n",
       "        text-align: right;\n",
       "    }\n",
       "</style>\n",
       "<table border=\"1\" class=\"dataframe\">\n",
       "  <thead>\n",
       "    <tr style=\"text-align: right;\">\n",
       "      <th></th>\n",
       "      <th>Transaction ID</th>\n",
       "      <th>Customer ID</th>\n",
       "      <th>Payment_Mode</th>\n",
       "    </tr>\n",
       "  </thead>\n",
       "  <tbody>\n",
       "    <tr>\n",
       "      <th>0</th>\n",
       "      <td>10000011</td>\n",
       "      <td>29290</td>\n",
       "      <td>Card</td>\n",
       "    </tr>\n",
       "    <tr>\n",
       "      <th>1</th>\n",
       "      <td>10000012</td>\n",
       "      <td>27703</td>\n",
       "      <td>Card</td>\n",
       "    </tr>\n",
       "    <tr>\n",
       "      <th>2</th>\n",
       "      <td>10000013</td>\n",
       "      <td>28712</td>\n",
       "      <td>Cash</td>\n",
       "    </tr>\n",
       "    <tr>\n",
       "      <th>3</th>\n",
       "      <td>10000014</td>\n",
       "      <td>28020</td>\n",
       "      <td>Cash</td>\n",
       "    </tr>\n",
       "    <tr>\n",
       "      <th>4</th>\n",
       "      <td>10000015</td>\n",
       "      <td>27182</td>\n",
       "      <td>Card</td>\n",
       "    </tr>\n",
       "  </tbody>\n",
       "</table>\n",
       "</div>"
      ]
     },
     "metadata": {},
     "output_type": "display_data"
    }
   ],
   "execution_count": 1
  },
  {
   "metadata": {},
   "cell_type": "markdown",
   "source": [
    "That's great. All the columns and rows provide meaningful results, except for the Date of Travel column in *transaction data*. We would change that in a second, but having a look at the data, we can come up with some questions that our analysis will answer:\n",
    "- Ultimately, should the XYZ company invest in a cab company or not? Which one?\n",
    "- Who are the primary customers (what's their gender/age/income)?\n",
    "- What is the average distance of the trip?\n",
    "- What is the profit on each customer?\n",
    "- What is the distribution of preferred payment methods?\n",
    "- Which company is more profitable?\n",
    "- How do these parameters change based on regions?\n",
    "- How do they change based on weather?"
   ],
   "id": "646e0a2c166cf225"
  },
  {
   "metadata": {},
   "cell_type": "markdown",
   "source": "Let us change the format of the Date of Travel column.",
   "id": "145ba380782c58d0"
  },
  {
   "metadata": {
    "ExecuteTime": {
     "end_time": "2024-05-10T22:09:04.931483Z",
     "start_time": "2024-05-10T22:09:04.621944Z"
    }
   },
   "cell_type": "code",
   "source": [
    "from datetime import datetime, timedelta\n",
    "\n",
    "# Function to convert Excel serial date to standard date format\n",
    "def convert_excel_serial_date(serial_date):\n",
    "    base_date = datetime(1899, 12, 30)  # This accounts for Excel leap year bug (1900 is treated as a leap year)\n",
    "    delta = timedelta(days=int(serial_date))\n",
    "    return base_date + delta\n",
    "\n",
    "# Apply conversion to the 'Date of Travel' column\n",
    "cab_data['Date of Travel'] = cab_data['Date of Travel'].apply(convert_excel_serial_date)\n",
    "\n",
    "# Display the converted date values to verify the changes\n",
    "print(\"Converted 'Date of Travel' Preview:\")\n",
    "display(cab_data['Date of Travel'].head())\n"
   ],
   "id": "2d4d1b5957872375",
   "outputs": [
    {
     "name": "stdout",
     "output_type": "stream",
     "text": [
      "Converted 'Date of Travel' Preview:\n"
     ]
    },
    {
     "data": {
      "text/plain": [
       "0   2016-01-08\n",
       "1   2016-01-06\n",
       "2   2016-01-02\n",
       "3   2016-01-07\n",
       "4   2016-01-03\n",
       "Name: Date of Travel, dtype: datetime64[ns]"
      ]
     },
     "metadata": {},
     "output_type": "display_data"
    }
   ],
   "execution_count": 2
  },
  {
   "metadata": {},
   "cell_type": "markdown",
   "source": [
    "### Customer Analysis\n",
    "\n",
    "With that format sorted out, we can dive into the EDA. Let's start with analyzing Customer Data. What I would like to know is:\n",
    "- how many customers are there?\n",
    "- what are their gender, age, and income distributions?\n",
    "- what is the most preferred way of payment?\n",
    "- is there any relationship between these distributions?"
   ],
   "id": "3a26f781f5888256"
  },
  {
   "metadata": {},
   "cell_type": "markdown",
   "source": "Let's see if we can add the payment mode statistics to the customer analysis. We have to see how many unique users are in the transactions data. For each of them we have to assign a preferred payment method. After that, we would be allowed to merge the columns into a single table.",
   "id": "61a52293f05927bd"
  },
  {
   "metadata": {
    "ExecuteTime": {
     "end_time": "2024-05-10T22:09:04.958397Z",
     "start_time": "2024-05-10T22:09:04.932374Z"
    }
   },
   "cell_type": "code",
   "source": [
    "unique_customers_tran = np.unique(transaction_data['Customer ID'])\n",
    "print(\"\\nNumber of customers in transaction data: \", len(unique_customers_tran))\n",
    "\n",
    "number_of_transactions = np.unique(transaction_data['Transaction ID'])\n",
    "print(\"\\nNumber of transactions: \", len(number_of_transactions))"
   ],
   "id": "3b6d41aeab908743",
   "outputs": [
    {
     "name": "stdout",
     "output_type": "stream",
     "text": [
      "\n",
      "Number of customers in transaction data:  49171\n",
      "\n",
      "Number of transactions:  440098\n"
     ]
    }
   ],
   "execution_count": 3
  },
  {
   "metadata": {},
   "cell_type": "markdown",
   "source": "As it turns out, we have exactly the same amount of users. We do not need to check their intersection, as it will be done by the JOIN command a bit later. Now, let's try to find out the probability of the users paying card (we will denote it with *p(card)*).",
   "id": "a2ca3f21c93b94d8"
  },
  {
   "metadata": {
    "ExecuteTime": {
     "end_time": "2024-05-11T00:33:21.714226Z",
     "start_time": "2024-05-11T00:33:21.490893Z"
    }
   },
   "cell_type": "code",
   "source": [
    "# Group by 'Customer ID' and 'Payment_Mode', then count each group\n",
    "payment_mode_counts = transaction_data.groupby(['Customer ID', 'Payment_Mode']).size().unstack(fill_value=0)\n",
    "\n",
    "payment_distribution_percent = transaction_data['Payment_Mode'].value_counts(normalize=True) * 100\n",
    "print(\"\\nPayment Distribution (Percentage):\")\n",
    "print(payment_distribution_percent)\n",
    "\n",
    "# Calculate the probability of using 'Card' as payment mode\n",
    "payment_mode_counts['p(card)'] = payment_mode_counts.get('Card', 0) / payment_mode_counts.sum(axis=1)\n",
    "\n",
    "# Reset index to turn the indices into columns\n",
    "payment_preferences = payment_mode_counts.reset_index()[['Customer ID', 'p(card)']]\n",
    "print(\"\\nPayment Preferences Preview:\")\n",
    "display(payment_preferences.head())"
   ],
   "id": "9425609bb2e7f138",
   "outputs": [
    {
     "name": "stdout",
     "output_type": "stream",
     "text": [
      "\n",
      "Payment Distribution (Percentage):\n",
      "Payment_Mode\n",
      "Card    59.984594\n",
      "Cash    40.015406\n",
      "Name: proportion, dtype: float64\n",
      "\n",
      "Payment Preferences Preview:\n"
     ]
    },
    {
     "data": {
      "text/plain": [
       "Payment_Mode  Customer ID   p(card)\n",
       "0                       1  0.620690\n",
       "1                       2  0.625000\n",
       "2                       3  0.652174\n",
       "3                       4  0.653846\n",
       "4                       5  0.645161"
      ],
      "text/html": [
       "<div>\n",
       "<style scoped>\n",
       "    .dataframe tbody tr th:only-of-type {\n",
       "        vertical-align: middle;\n",
       "    }\n",
       "\n",
       "    .dataframe tbody tr th {\n",
       "        vertical-align: top;\n",
       "    }\n",
       "\n",
       "    .dataframe thead th {\n",
       "        text-align: right;\n",
       "    }\n",
       "</style>\n",
       "<table border=\"1\" class=\"dataframe\">\n",
       "  <thead>\n",
       "    <tr style=\"text-align: right;\">\n",
       "      <th>Payment_Mode</th>\n",
       "      <th>Customer ID</th>\n",
       "      <th>p(card)</th>\n",
       "    </tr>\n",
       "  </thead>\n",
       "  <tbody>\n",
       "    <tr>\n",
       "      <th>0</th>\n",
       "      <td>1</td>\n",
       "      <td>0.620690</td>\n",
       "    </tr>\n",
       "    <tr>\n",
       "      <th>1</th>\n",
       "      <td>2</td>\n",
       "      <td>0.625000</td>\n",
       "    </tr>\n",
       "    <tr>\n",
       "      <th>2</th>\n",
       "      <td>3</td>\n",
       "      <td>0.652174</td>\n",
       "    </tr>\n",
       "    <tr>\n",
       "      <th>3</th>\n",
       "      <td>4</td>\n",
       "      <td>0.653846</td>\n",
       "    </tr>\n",
       "    <tr>\n",
       "      <th>4</th>\n",
       "      <td>5</td>\n",
       "      <td>0.645161</td>\n",
       "    </tr>\n",
       "  </tbody>\n",
       "</table>\n",
       "</div>"
      ]
     },
     "metadata": {},
     "output_type": "display_data"
    }
   ],
   "execution_count": 11
  },
  {
   "metadata": {
    "ExecuteTime": {
     "end_time": "2024-05-10T22:09:05.026074Z",
     "start_time": "2024-05-10T22:09:05.013518Z"
    }
   },
   "cell_type": "code",
   "source": [
    "# Merge the new payment preference data with the original customer data\n",
    "customer_data = pd.merge(customer_data, payment_preferences, on='Customer ID', how='left')\n",
    "\n",
    "# Display the first few rows to verify the merge\n",
    "print(\"Enhanced Customer Data Preview:\")\n",
    "display(customer_data.head())"
   ],
   "id": "aef371a5ad4b2a81",
   "outputs": [
    {
     "name": "stdout",
     "output_type": "stream",
     "text": [
      "Enhanced Customer Data Preview:\n"
     ]
    },
    {
     "data": {
      "text/plain": [
       "   Customer ID Gender  Age  Income (USD/Month)   p(card)\n",
       "0        29290   Male   28               10813  0.666667\n",
       "1        27703   Male   27                9237  0.750000\n",
       "2        28712   Male   53               11242  0.500000\n",
       "3        28020   Male   23               23327  0.250000\n",
       "4        27182   Male   33                8536  0.750000"
      ],
      "text/html": [
       "<div>\n",
       "<style scoped>\n",
       "    .dataframe tbody tr th:only-of-type {\n",
       "        vertical-align: middle;\n",
       "    }\n",
       "\n",
       "    .dataframe tbody tr th {\n",
       "        vertical-align: top;\n",
       "    }\n",
       "\n",
       "    .dataframe thead th {\n",
       "        text-align: right;\n",
       "    }\n",
       "</style>\n",
       "<table border=\"1\" class=\"dataframe\">\n",
       "  <thead>\n",
       "    <tr style=\"text-align: right;\">\n",
       "      <th></th>\n",
       "      <th>Customer ID</th>\n",
       "      <th>Gender</th>\n",
       "      <th>Age</th>\n",
       "      <th>Income (USD/Month)</th>\n",
       "      <th>p(card)</th>\n",
       "    </tr>\n",
       "  </thead>\n",
       "  <tbody>\n",
       "    <tr>\n",
       "      <th>0</th>\n",
       "      <td>29290</td>\n",
       "      <td>Male</td>\n",
       "      <td>28</td>\n",
       "      <td>10813</td>\n",
       "      <td>0.666667</td>\n",
       "    </tr>\n",
       "    <tr>\n",
       "      <th>1</th>\n",
       "      <td>27703</td>\n",
       "      <td>Male</td>\n",
       "      <td>27</td>\n",
       "      <td>9237</td>\n",
       "      <td>0.750000</td>\n",
       "    </tr>\n",
       "    <tr>\n",
       "      <th>2</th>\n",
       "      <td>28712</td>\n",
       "      <td>Male</td>\n",
       "      <td>53</td>\n",
       "      <td>11242</td>\n",
       "      <td>0.500000</td>\n",
       "    </tr>\n",
       "    <tr>\n",
       "      <th>3</th>\n",
       "      <td>28020</td>\n",
       "      <td>Male</td>\n",
       "      <td>23</td>\n",
       "      <td>23327</td>\n",
       "      <td>0.250000</td>\n",
       "    </tr>\n",
       "    <tr>\n",
       "      <th>4</th>\n",
       "      <td>27182</td>\n",
       "      <td>Male</td>\n",
       "      <td>33</td>\n",
       "      <td>8536</td>\n",
       "      <td>0.750000</td>\n",
       "    </tr>\n",
       "  </tbody>\n",
       "</table>\n",
       "</div>"
      ]
     },
     "metadata": {},
     "output_type": "display_data"
    }
   ],
   "execution_count": 5
  },
  {
   "metadata": {
    "ExecuteTime": {
     "end_time": "2024-05-10T22:09:05.029732Z",
     "start_time": "2024-05-10T22:09:05.026791Z"
    }
   },
   "cell_type": "code",
   "source": [
    "# To answer the first question, we will count the unique customer IDs\n",
    "unique_customers = customer_data['Customer ID'].nunique()\n",
    "print(f\"Number of unique customers: {unique_customers}\")"
   ],
   "id": "de04c6254afad90b",
   "outputs": [
    {
     "name": "stdout",
     "output_type": "stream",
     "text": [
      "Number of unique customers: 49171\n"
     ]
    }
   ],
   "execution_count": 6
  },
  {
   "metadata": {
    "ExecuteTime": {
     "end_time": "2024-05-10T22:09:05.035244Z",
     "start_time": "2024-05-10T22:09:05.030303Z"
    }
   },
   "cell_type": "code",
   "source": [
    "# Analyze gender distribution with relative frequencies\n",
    "gender_distribution_percent = customer_data['Gender'].value_counts(normalize=True) * 100\n",
    "print(\"Gender Distribution (Percentage):\")\n",
    "print(gender_distribution_percent)"
   ],
   "id": "6a2b323a2858d488",
   "outputs": [
    {
     "name": "stdout",
     "output_type": "stream",
     "text": [
      "Gender Distribution (Percentage):\n",
      "Gender\n",
      "Male      54.019646\n",
      "Female    45.980354\n",
      "Name: proportion, dtype: float64\n"
     ]
    }
   ],
   "execution_count": 7
  },
  {
   "metadata": {
    "ExecuteTime": {
     "end_time": "2024-05-10T22:09:05.147551Z",
     "start_time": "2024-05-10T22:09:05.035856Z"
    }
   },
   "cell_type": "code",
   "source": [
    "# Summary statistics for age\n",
    "age_summary = customer_data['Age'].describe()\n",
    "print(\"Age Distribution Summary:\")\n",
    "print(age_summary)\n",
    "\n",
    "plt.figure(figsize=(8, 5))\n",
    "plt.hist(customer_data['Age'], bins=15, color='skyblue', edgecolor='black')\n",
    "plt.title('Age Distribution')\n",
    "plt.xlabel('Age')\n",
    "plt.ylabel('Frequency')\n",
    "plt.grid(True)\n",
    "plt.show()"
   ],
   "id": "a1fcdac6d0528c16",
   "outputs": [
    {
     "name": "stdout",
     "output_type": "stream",
     "text": [
      "Age Distribution Summary:\n",
      "count    49171.000000\n",
      "mean        35.363121\n",
      "std         12.599066\n",
      "min         18.000000\n",
      "25%         25.000000\n",
      "50%         33.000000\n",
      "75%         42.000000\n",
      "max         65.000000\n",
      "Name: Age, dtype: float64\n"
     ]
    },
    {
     "data": {
      "text/plain": [
       "<Figure size 800x500 with 1 Axes>"
      ],
      "image/png": "[encoded data removed]"
     },
     "metadata": {},
     "output_type": "display_data"
    }
   ],
   "execution_count": 8
  },
  {
   "metadata": {
    "ExecuteTime": {
     "end_time": "2024-05-10T22:09:05.276631Z",
     "start_time": "2024-05-10T22:09:05.149213Z"
    }
   },
   "cell_type": "code",
   "source": [
    "# Summary statistics for income\n",
    "income_summary = customer_data['Income (USD/Month)'].describe()\n",
    "print(\"Income Distribution Summary:\")\n",
    "print(income_summary)\n",
    "\n",
    "# Histogram for income distribution\n",
    "plt.figure(figsize=(8, 5))\n",
    "plt.hist(customer_data['Income (USD/Month)'], bins=15, color='lightgreen', edgecolor='black')\n",
    "plt.title('Income Distribution')\n",
    "plt.xlabel('Income (USD/Month)')\n",
    "plt.ylabel('Frequency')\n",
    "plt.grid(True)\n",
    "plt.show()"
   ],
   "id": "39fccf4016684efa",
   "outputs": [
    {
     "name": "stdout",
     "output_type": "stream",
     "text": [
      "Income Distribution Summary:\n",
      "count    49171.000000\n",
      "mean     15015.631856\n",
      "std       8002.208253\n",
      "min       2000.000000\n",
      "25%       8289.500000\n",
      "50%      14656.000000\n",
      "75%      21035.000000\n",
      "max      35000.000000\n",
      "Name: Income (USD/Month), dtype: float64\n"
     ]
    },
    {
     "data": {
      "text/plain": [
       "<Figure size 800x500 with 1 Axes>"
      ],
      "image/png": "[encoded data removed]"
     },
     "metadata": {},
     "output_type": "display_data"
    }
   ],
   "execution_count": 9
  },
  {
   "metadata": {
    "ExecuteTime": {
     "end_time": "2024-05-10T22:09:05.429653Z",
     "start_time": "2024-05-10T22:09:05.281920Z"
    }
   },
   "cell_type": "code",
   "source": [
    "# Encoding gender as a numeric value\n",
    "customer_data['Gender Encoded'] = customer_data['Gender'].map({'Male': 0, 'Female': 1})\n",
    "\n",
    "# Compute the correlation matrix for age, income, and encoded gender\n",
    "correlation_matrix = customer_data[['Age', 'Income (USD/Month)', 'Gender Encoded', 'p(card)']].corr()\n",
    "\n",
    "# Display the correlation matrix\n",
    "print(\"Correlation Matrix:\")\n",
    "print(correlation_matrix)\n",
    "\n",
    "plt.figure(figsize=(8, 6))\n",
    "sns.heatmap(correlation_matrix, annot=True, fmt=\".2f\", cmap='coolwarm', cbar=True)\n",
    "plt.title('Correlation Matrix of Age, Income, Payment Method and Gender')\n",
    "plt.show()"
   ],
   "id": "c6456f726a786da1",
   "outputs": [
    {
     "name": "stdout",
     "output_type": "stream",
     "text": [
      "Correlation Matrix:\n",
      "                         Age  Income (USD/Month)  Gender Encoded   p(card)\n",
      "Age                 1.000000            0.000156       -0.004064  0.000477\n",
      "Income (USD/Month)  0.000156            1.000000       -0.003408  0.007482\n",
      "Gender Encoded     -0.004064           -0.003408        1.000000  0.003593\n",
      "p(card)             0.000477            0.007482        0.003593  1.000000\n"
     ]
    },
    {
     "data": {
      "text/plain": [
       "<Figure size 800x600 with 2 Axes>"
      ],
      "image/png": "[encoded data removed]"
     },
     "metadata": {},
     "output_type": "display_data"
    }
   ],
   "execution_count": 10
  },
  {
   "metadata": {},
   "cell_type": "markdown",
   "source": [
    "Okay! I think that is a good result. We found out that:\n",
    "- there are almost 50 thousands users;\n",
    "- 54% of them are male, and 46% are female;\n",
    "- 60% of the transactions were paid by card, and 40% by cash;\n",
    "- majority of users are below age of 40 y.o.;\n",
    "- most of the users earn below $25,000 a month, with the distribution being uniform;\n",
    "- there is no correlation between any of the three metrics.\n",
    "\n",
    "Even though this is cool information that we might use in the future, let us turn towards the most important part of analysis -- profitability of the companies."
   ],
   "id": "34f563c73ff98898"
  },
  {
   "metadata": {},
   "cell_type": "markdown",
   "source": [
    "### Company Analysis\n",
    "\n",
    "As I have said, the biggest concern of investors is money. Therefore, we need to calculate the profit made by the companies with each transaction. "
   ],
   "id": "7d2132515391a5c0"
  },
  {
   "metadata": {
    "ExecuteTime": {
     "end_time": "2024-05-11T00:40:02.461343Z",
     "start_time": "2024-05-11T00:40:02.421278Z"
    }
   },
   "cell_type": "code",
   "source": [
    "# Calculate profit for each transaction\n",
    "cab_data['Profit'] = cab_data['Price Charged'] - cab_data['Cost of Trip']\n",
    "\n",
    "# Display the first few rows to verify the new 'Profit' column\n",
    "print(\"Updated Cab Data Preview with Profit:\")\n",
    "display(cab_data.head())"
   ],
   "id": "8e2d72cf0f23962c",
   "outputs": [
    {
     "name": "stdout",
     "output_type": "stream",
     "text": [
      "Updated Cab Data Preview with Profit:\n"
     ]
    },
    {
     "data": {
      "text/plain": [
       "   Transaction ID Date of Travel   Company        City  KM Travelled  \\\n",
       "0        10000011     2016-01-08  Pink Cab  ATLANTA GA         30.45   \n",
       "1        10000012     2016-01-06  Pink Cab  ATLANTA GA         28.62   \n",
       "2        10000013     2016-01-02  Pink Cab  ATLANTA GA          9.04   \n",
       "3        10000014     2016-01-07  Pink Cab  ATLANTA GA         33.17   \n",
       "4        10000015     2016-01-03  Pink Cab  ATLANTA GA          8.73   \n",
       "\n",
       "   Price Charged  Cost of Trip  Profit  \n",
       "0         370.95       313.635  57.315  \n",
       "1         358.52       334.854  23.666  \n",
       "2         125.20        97.632  27.568  \n",
       "3         377.40       351.602  25.798  \n",
       "4         114.62        97.776  16.844  "
      ],
      "text/html": [
       "<div>\n",
       "<style scoped>\n",
       "    .dataframe tbody tr th:only-of-type {\n",
       "        vertical-align: middle;\n",
       "    }\n",
       "\n",
       "    .dataframe tbody tr th {\n",
       "        vertical-align: top;\n",
       "    }\n",
       "\n",
       "    .dataframe thead th {\n",
       "        text-align: right;\n",
       "    }\n",
       "</style>\n",
       "<table border=\"1\" class=\"dataframe\">\n",
       "  <thead>\n",
       "    <tr style=\"text-align: right;\">\n",
       "      <th></th>\n",
       "      <th>Transaction ID</th>\n",
       "      <th>Date of Travel</th>\n",
       "      <th>Company</th>\n",
       "      <th>City</th>\n",
       "      <th>KM Travelled</th>\n",
       "      <th>Price Charged</th>\n",
       "      <th>Cost of Trip</th>\n",
       "      <th>Profit</th>\n",
       "    </tr>\n",
       "  </thead>\n",
       "  <tbody>\n",
       "    <tr>\n",
       "      <th>0</th>\n",
       "      <td>10000011</td>\n",
       "      <td>2016-01-08</td>\n",
       "      <td>Pink Cab</td>\n",
       "      <td>ATLANTA GA</td>\n",
       "      <td>30.45</td>\n",
       "      <td>370.95</td>\n",
       "      <td>313.635</td>\n",
       "      <td>57.315</td>\n",
       "    </tr>\n",
       "    <tr>\n",
       "      <th>1</th>\n",
       "      <td>10000012</td>\n",
       "      <td>2016-01-06</td>\n",
       "      <td>Pink Cab</td>\n",
       "      <td>ATLANTA GA</td>\n",
       "      <td>28.62</td>\n",
       "      <td>358.52</td>\n",
       "      <td>334.854</td>\n",
       "      <td>23.666</td>\n",
       "    </tr>\n",
       "    <tr>\n",
       "      <th>2</th>\n",
       "      <td>10000013</td>\n",
       "      <td>2016-01-02</td>\n",
       "      <td>Pink Cab</td>\n",
       "      <td>ATLANTA GA</td>\n",
       "      <td>9.04</td>\n",
       "      <td>125.20</td>\n",
       "      <td>97.632</td>\n",
       "      <td>27.568</td>\n",
       "    </tr>\n",
       "    <tr>\n",
       "      <th>3</th>\n",
       "      <td>10000014</td>\n",
       "      <td>2016-01-07</td>\n",
       "      <td>Pink Cab</td>\n",
       "      <td>ATLANTA GA</td>\n",
       "      <td>33.17</td>\n",
       "      <td>377.40</td>\n",
       "      <td>351.602</td>\n",
       "      <td>25.798</td>\n",
       "    </tr>\n",
       "    <tr>\n",
       "      <th>4</th>\n",
       "      <td>10000015</td>\n",
       "      <td>2016-01-03</td>\n",
       "      <td>Pink Cab</td>\n",
       "      <td>ATLANTA GA</td>\n",
       "      <td>8.73</td>\n",
       "      <td>114.62</td>\n",
       "      <td>97.776</td>\n",
       "      <td>16.844</td>\n",
       "    </tr>\n",
       "  </tbody>\n",
       "</table>\n",
       "</div>"
      ]
     },
     "metadata": {},
     "output_type": "display_data"
    }
   ],
   "execution_count": 12
  },
  {
   "metadata": {},
   "cell_type": "markdown",
   "source": "Great! Now we can group the information about profit by the companies and years. Let's do this:",
   "id": "587a66d5d5080b16"
  },
  {
   "metadata": {
    "ExecuteTime": {
     "end_time": "2024-05-11T00:41:09.100567Z",
     "start_time": "2024-05-11T00:41:09.072349Z"
    }
   },
   "cell_type": "code",
   "source": "print(cab_data['Company'].unique())",
   "id": "bbb35b4f4f1404b4",
   "outputs": [
    {
     "name": "stdout",
     "output_type": "stream",
     "text": [
      "['Pink Cab' 'Yellow Cab']\n"
     ]
    }
   ],
   "execution_count": 14
  },
  {
   "metadata": {},
   "cell_type": "code",
   "outputs": [],
   "execution_count": null,
   "source": "",
   "id": "ec5834dd57d686bb"
  }
 ],
 "metadata": {
  "kernelspec": {
   "display_name": "Python 3",
   "language": "python",
   "name": "python3"
  },
  "language_info": {
   "codemirror_mode": {
    "name": "ipython",
    "version": 2
   },
   "file_extension": ".py",
   "mimetype": "text/x-python",
   "name": "python",
   "nbconvert_exporter": "python",
   "pygments_lexer": "ipython2",
   "version": "2.7.6"
  }
 },
 "nbformat": 4,
 "nbformat_minor": 5
}
